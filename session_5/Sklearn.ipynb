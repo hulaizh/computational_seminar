{
 "cells": [
  {
   "cell_type": "markdown",
   "id": "egyptian-walter",
   "metadata": {},
   "source": [
    "# Intro to sklearn"
   ]
  },
  {
   "cell_type": "markdown",
   "id": "abroad-kelly",
   "metadata": {},
   "source": [
    "## Diabetes dataset"
   ]
  },
  {
   "cell_type": "markdown",
   "id": "operating-egypt",
   "metadata": {},
   "source": [
    "__Import the diabetes dataset from sklearn. Describe it.__"
   ]
  },
  {
   "cell_type": "code",
   "execution_count": 55,
   "id": "experimental-standard",
   "metadata": {},
   "outputs": [],
   "source": [
    "from sklearn.datasets import load_diabetes\n",
    "dataset = load_diabetes()\n",
    "X = dataset['data']\n",
    "y = dataset['target']"
   ]
  },
  {
   "cell_type": "markdown",
   "id": "mature-battlefield",
   "metadata": {},
   "source": [
    "__Split the dataset into a training set (70%) and a test set (30%)__"
   ]
  },
  {
   "cell_type": "code",
   "execution_count": 71,
   "id": "major-hungary",
   "metadata": {},
   "outputs": [],
   "source": [
    "\n",
    "\n"
   ]
  },
  {
   "cell_type": "markdown",
   "id": "vital-karaoke",
   "metadata": {},
   "source": [
    "__Train a linear model (with intercept) on the training set__"
   ]
  },
  {
   "cell_type": "code",
   "execution_count": 56,
   "id": "august-hebrew",
   "metadata": {},
   "outputs": [],
   "source": []
  },
  {
   "cell_type": "markdown",
   "id": "introductory-reproduction",
   "metadata": {},
   "source": [
    "__Compute the fitting score on the test set. (Bonus: compare with your own computation of $R^2$)__"
   ]
  },
  {
   "cell_type": "code",
   "execution_count": null,
   "id": "dried-cylinder",
   "metadata": {},
   "outputs": [],
   "source": []
  },
  {
   "cell_type": "markdown",
   "id": "acoustic-wrist",
   "metadata": {},
   "source": [
    "__Should we adjust the size of the test set? What would be the problem?__"
   ]
  },
  {
   "cell_type": "code",
   "execution_count": null,
   "id": "oriented-strand",
   "metadata": {},
   "outputs": [],
   "source": []
  },
  {
   "cell_type": "markdown",
   "id": "internal-hearing",
   "metadata": {},
   "source": [
    "__Implement $k$-fold model with $k=3$.__"
   ]
  },
  {
   "cell_type": "code",
   "execution_count": null,
   "id": "valued-senior",
   "metadata": {},
   "outputs": [],
   "source": []
  },
  {
   "cell_type": "markdown",
   "id": "mighty-teach",
   "metadata": {},
   "source": [
    "__Bonus: use `statsmodels` (or `linearmodels`) to estimate the same linear model on the full sample. Is it always a superior method?__"
   ]
  },
  {
   "cell_type": "code",
   "execution_count": null,
   "id": "polar-archive",
   "metadata": {},
   "outputs": [],
   "source": []
  },
  {
   "cell_type": "markdown",
   "id": "affecting-invalid",
   "metadata": {},
   "source": [
    "## Sparse regressions on the Boston House Price Dataset\n"
   ]
  },
  {
   "cell_type": "markdown",
   "id": "consolidated-joining",
   "metadata": {},
   "source": [
    "__Import the Boston House Price Dataset from sklearn. Describe it. Compute correlations.__"
   ]
  },
  {
   "cell_type": "code",
   "execution_count": null,
   "id": "matched-israeli",
   "metadata": {},
   "outputs": [],
   "source": []
  },
  {
   "cell_type": "markdown",
   "id": "direct-mattress",
   "metadata": {},
   "source": [
    "__Split the dataset into a training set (70%) and a test set (30%).__"
   ]
  },
  {
   "cell_type": "code",
   "execution_count": null,
   "id": "clinical-effort",
   "metadata": {},
   "outputs": [],
   "source": []
  },
  {
   "cell_type": "markdown",
   "id": "frequent-indian",
   "metadata": {},
   "source": [
    "__Train a lasso model to predict house prices. Compute the score on the test set.__"
   ]
  },
  {
   "cell_type": "code",
   "execution_count": null,
   "id": "pending-center",
   "metadata": {},
   "outputs": [],
   "source": []
  },
  {
   "cell_type": "markdown",
   "id": "useful-favorite",
   "metadata": {},
   "source": [
    "__Train a ridge model to predict house prices. Which one is better?__"
   ]
  },
  {
   "cell_type": "code",
   "execution_count": null,
   "id": "measured-pathology",
   "metadata": {},
   "outputs": [],
   "source": []
  },
  {
   "cell_type": "markdown",
   "id": "young-karaoke",
   "metadata": {},
   "source": [
    "__(bonus) Use statsmodels to build a model predicting house prices. What is the problem?__"
   ]
  },
  {
   "cell_type": "code",
   "execution_count": null,
   "id": "several-opening",
   "metadata": {},
   "outputs": [],
   "source": []
  },
  {
   "cell_type": "markdown",
   "id": "orange-potter",
   "metadata": {},
   "source": [
    "## Predicting Breast Cancer\n",
    "\n",
    "Sklearn includes the Winsconsin breast cancer database. It associates medical outcomes for tumor observation, with several characteristics. Can a machine learn how to predict whether a cancer is benign or malignant ?"
   ]
  },
  {
   "cell_type": "markdown",
   "id": "beginning-romance",
   "metadata": {},
   "source": [
    "__Import the Breast Cancer Dataset from sklearn. Describe it.__"
   ]
  },
  {
   "cell_type": "code",
   "execution_count": 1,
   "id": "english-characterization",
   "metadata": {},
   "outputs": [],
   "source": [
    "from sklearn.datasets import load_breast_cancer\n",
    "dataset = load_breast_cancer()"
   ]
  },
  {
   "cell_type": "code",
   "execution_count": 3,
   "id": "alleged-trick",
   "metadata": {},
   "outputs": [
    {
     "name": "stdout",
     "output_type": "stream",
     "text": [
      ".. _breast_cancer_dataset:\n",
      "\n",
      "Breast cancer wisconsin (diagnostic) dataset\n",
      "--------------------------------------------\n",
      "\n",
      "**Data Set Characteristics:**\n",
      "\n",
      "    :Number of Instances: 569\n",
      "\n",
      "    :Number of Attributes: 30 numeric, predictive attributes and the class\n",
      "\n",
      "    :Attribute Information:\n",
      "        - radius (mean of distances from center to points on the perimeter)\n",
      "        - texture (standard deviation of gray-scale values)\n",
      "        - perimeter\n",
      "        - area\n",
      "        - smoothness (local variation in radius lengths)\n",
      "        - compactness (perimeter^2 / area - 1.0)\n",
      "        - concavity (severity of concave portions of the contour)\n",
      "        - concave points (number of concave portions of the contour)\n",
      "        - symmetry\n",
      "        - fractal dimension (\"coastline approximation\" - 1)\n",
      "\n",
      "        The mean, standard error, and \"worst\" or largest (mean of the three\n",
      "        worst/largest values) of these features were computed for each image,\n",
      "        resulting in 30 features.  For instance, field 0 is Mean Radius, field\n",
      "        10 is Radius SE, field 20 is Worst Radius.\n",
      "\n",
      "        - class:\n",
      "                - WDBC-Malignant\n",
      "                - WDBC-Benign\n",
      "\n",
      "    :Summary Statistics:\n",
      "\n",
      "    ===================================== ====== ======\n",
      "                                           Min    Max\n",
      "    ===================================== ====== ======\n",
      "    radius (mean):                        6.981  28.11\n",
      "    texture (mean):                       9.71   39.28\n",
      "    perimeter (mean):                     43.79  188.5\n",
      "    area (mean):                          143.5  2501.0\n",
      "    smoothness (mean):                    0.053  0.163\n",
      "    compactness (mean):                   0.019  0.345\n",
      "    concavity (mean):                     0.0    0.427\n",
      "    concave points (mean):                0.0    0.201\n",
      "    symmetry (mean):                      0.106  0.304\n",
      "    fractal dimension (mean):             0.05   0.097\n",
      "    radius (standard error):              0.112  2.873\n",
      "    texture (standard error):             0.36   4.885\n",
      "    perimeter (standard error):           0.757  21.98\n",
      "    area (standard error):                6.802  542.2\n",
      "    smoothness (standard error):          0.002  0.031\n",
      "    compactness (standard error):         0.002  0.135\n",
      "    concavity (standard error):           0.0    0.396\n",
      "    concave points (standard error):      0.0    0.053\n",
      "    symmetry (standard error):            0.008  0.079\n",
      "    fractal dimension (standard error):   0.001  0.03\n",
      "    radius (worst):                       7.93   36.04\n",
      "    texture (worst):                      12.02  49.54\n",
      "    perimeter (worst):                    50.41  251.2\n",
      "    area (worst):                         185.2  4254.0\n",
      "    smoothness (worst):                   0.071  0.223\n",
      "    compactness (worst):                  0.027  1.058\n",
      "    concavity (worst):                    0.0    1.252\n",
      "    concave points (worst):               0.0    0.291\n",
      "    symmetry (worst):                     0.156  0.664\n",
      "    fractal dimension (worst):            0.055  0.208\n",
      "    ===================================== ====== ======\n",
      "\n",
      "    :Missing Attribute Values: None\n",
      "\n",
      "    :Class Distribution: 212 - Malignant, 357 - Benign\n",
      "\n",
      "    :Creator:  Dr. William H. Wolberg, W. Nick Street, Olvi L. Mangasarian\n",
      "\n",
      "    :Donor: Nick Street\n",
      "\n",
      "    :Date: November, 1995\n",
      "\n",
      "This is a copy of UCI ML Breast Cancer Wisconsin (Diagnostic) datasets.\n",
      "https://goo.gl/U2Uwz2\n",
      "\n",
      "Features are computed from a digitized image of a fine needle\n",
      "aspirate (FNA) of a breast mass.  They describe\n",
      "characteristics of the cell nuclei present in the image.\n",
      "\n",
      "Separating plane described above was obtained using\n",
      "Multisurface Method-Tree (MSM-T) [K. P. Bennett, \"Decision Tree\n",
      "Construction Via Linear Programming.\" Proceedings of the 4th\n",
      "Midwest Artificial Intelligence and Cognitive Science Society,\n",
      "pp. 97-101, 1992], a classification method which uses linear\n",
      "programming to construct a decision tree.  Relevant features\n",
      "were selected using an exhaustive search in the space of 1-4\n",
      "features and 1-3 separating planes.\n",
      "\n",
      "The actual linear program used to obtain the separating plane\n",
      "in the 3-dimensional space is that described in:\n",
      "[K. P. Bennett and O. L. Mangasarian: \"Robust Linear\n",
      "Programming Discrimination of Two Linearly Inseparable Sets\",\n",
      "Optimization Methods and Software 1, 1992, 23-34].\n",
      "\n",
      "This database is also available through the UW CS ftp server:\n",
      "\n",
      "ftp ftp.cs.wisc.edu\n",
      "cd math-prog/cpo-dataset/machine-learn/WDBC/\n",
      "\n",
      ".. topic:: References\n",
      "\n",
      "   - W.N. Street, W.H. Wolberg and O.L. Mangasarian. Nuclear feature extraction \n",
      "     for breast tumor diagnosis. IS&T/SPIE 1993 International Symposium on \n",
      "     Electronic Imaging: Science and Technology, volume 1905, pages 861-870,\n",
      "     San Jose, CA, 1993.\n",
      "   - O.L. Mangasarian, W.N. Street and W.H. Wolberg. Breast cancer diagnosis and \n",
      "     prognosis via linear programming. Operations Research, 43(4), pages 570-577, \n",
      "     July-August 1995.\n",
      "   - W.H. Wolberg, W.N. Street, and O.L. Mangasarian. Machine learning techniques\n",
      "     to diagnose breast cancer from fine-needle aspirates. Cancer Letters 77 (1994) \n",
      "     163-171.\n"
     ]
    }
   ],
   "source": [
    "print( dataset['DESCR'] )"
   ]
  },
  {
   "cell_type": "code",
   "execution_count": 11,
   "id": "adapted-possibility",
   "metadata": {},
   "outputs": [],
   "source": [
    "X = dataset['data']\n",
    "y = dataset['target']"
   ]
  },
  {
   "cell_type": "code",
   "execution_count": 12,
   "id": "sorted-performer",
   "metadata": {},
   "outputs": [
    {
     "data": {
      "text/plain": [
       "(569, 30)"
      ]
     },
     "execution_count": 12,
     "metadata": {},
     "output_type": "execute_result"
    }
   ],
   "source": [
    "X.shape"
   ]
  },
  {
   "cell_type": "code",
   "execution_count": 13,
   "id": "amino-doctrine",
   "metadata": {},
   "outputs": [
    {
     "data": {
      "text/plain": [
       "(569,)"
      ]
     },
     "execution_count": 13,
     "metadata": {},
     "output_type": "execute_result"
    }
   ],
   "source": [
    "y.shape"
   ]
  },
  {
   "cell_type": "markdown",
   "id": "chubby-egypt",
   "metadata": {},
   "source": [
    "Let's normalize the dataset:"
   ]
  },
  {
   "cell_type": "code",
   "execution_count": 14,
   "id": "governmental-notification",
   "metadata": {},
   "outputs": [],
   "source": [
    "from sklearn.preprocessing import StandardScaler\n",
    "sc = StandardScaler()\n",
    "X = sc.fit_transform(X)\n",
    "# X_test = sc.transform(X_test)"
   ]
  },
  {
   "cell_type": "markdown",
   "id": "advanced-separation",
   "metadata": {},
   "source": [
    "__Properly train a linear logistic regression to predict cancer morbidity. (bonus: use k-fold validation)__"
   ]
  },
  {
   "cell_type": "markdown",
   "id": "grand-joshua",
   "metadata": {},
   "source": [
    "Split the dataset, keeping 10% of all observations for test."
   ]
  },
  {
   "cell_type": "code",
   "execution_count": 20,
   "id": "mental-hazard",
   "metadata": {},
   "outputs": [],
   "source": [
    "from sklearn.model_selection import train_test_split\n",
    "X_train, X_test, y_train, y_test = train_test_split(X,y, test_size=0.1)"
   ]
  },
  {
   "cell_type": "markdown",
   "id": "optical-velvet",
   "metadata": {},
   "source": [
    "We create the model"
   ]
  },
  {
   "cell_type": "code",
   "execution_count": 21,
   "id": "literary-black",
   "metadata": {},
   "outputs": [],
   "source": [
    "from sklearn.linear_model import LinearRegression\n",
    "model = LinearRegression()"
   ]
  },
  {
   "cell_type": "code",
   "execution_count": 22,
   "id": "accessible-rhythm",
   "metadata": {},
   "outputs": [
    {
     "data": {
      "text/plain": [
       "LinearRegression()"
      ]
     },
     "execution_count": 22,
     "metadata": {},
     "output_type": "execute_result"
    }
   ],
   "source": [
    "model.fit(X_train, y_train)"
   ]
  },
  {
   "cell_type": "markdown",
   "id": "after-pittsburgh",
   "metadata": {},
   "source": [
    "Compute the score:"
   ]
  },
  {
   "cell_type": "code",
   "execution_count": 23,
   "id": "executed-chuck",
   "metadata": {},
   "outputs": [
    {
     "data": {
      "text/plain": [
       "0.7523303435448611"
      ]
     },
     "execution_count": 23,
     "metadata": {},
     "output_type": "execute_result"
    }
   ],
   "source": [
    "model.score(X_test, y_test)"
   ]
  },
  {
   "cell_type": "markdown",
   "id": "outer-camera",
   "metadata": {},
   "source": [
    "Let's do the k-fold validation, with k=3."
   ]
  },
  {
   "cell_type": "code",
   "execution_count": 26,
   "id": "different-plaza",
   "metadata": {},
   "outputs": [
    {
     "name": "stdout",
     "output_type": "stream",
     "text": [
      "0.6827469154210248\n",
      "0.7411274933586149\n",
      "0.685526793901217\n"
     ]
    }
   ],
   "source": [
    "from sklearn.model_selection import KFold\n",
    "kf = KFold(n_splits=3)\n",
    "\n",
    "scores = []\n",
    "\n",
    "for train_index, test_index in kf.split(X):\n",
    "    \n",
    "    X_train, X_test = X[train_index], X[test_index]\n",
    "    y_train, y_test = y[train_index], y[test_index]\n",
    "    \n",
    "    model = LinearRegression()\n",
    "    model.fit(X_train, y_train)\n",
    "    \n",
    "    score = model.score(X_test, y_test)\n",
    "    \n",
    "    print(score)\n",
    "    scores.append(score)"
   ]
  },
  {
   "cell_type": "code",
   "execution_count": 27,
   "id": "verified-candy",
   "metadata": {},
   "outputs": [
    {
     "data": {
      "text/plain": [
       "[0.6827469154210248, 0.7411274933586149, 0.685526793901217]"
      ]
     },
     "execution_count": 27,
     "metadata": {},
     "output_type": "execute_result"
    }
   ],
   "source": [
    "scores"
   ]
  },
  {
   "cell_type": "markdown",
   "id": "variable-drunk",
   "metadata": {},
   "source": [
    "__Try with other classifiers. Which one is best?__"
   ]
  },
  {
   "cell_type": "code",
   "execution_count": 38,
   "id": "demanding-wedding",
   "metadata": {},
   "outputs": [
    {
     "name": "stdout",
     "output_type": "stream",
     "text": [
      "0.8842105263157894\n",
      "0.9421052631578948\n",
      "0.9047619047619048\n"
     ]
    }
   ],
   "source": [
    "from sklearn.model_selection import KFold\n",
    "kf = KFold(n_splits=3)\n",
    "\n",
    "from sklearn.tree import DecisionTreeClassifier\n",
    "model = DecisionTreeClassifier(random_state=0)\n",
    "\n",
    "scores_dt = []\n",
    "\n",
    "for train_index, test_index in kf.split(X):\n",
    "    \n",
    "    X_train, X_test = X[train_index], X[test_index]\n",
    "    y_train, y_test = y[train_index], y[test_index]\n",
    "    \n",
    "    model.fit(X_train, y_train)\n",
    "    \n",
    "    score = model.score(X_test, y_test)\n",
    "    \n",
    "    print(score)\n",
    "    scores_dt.append(score)"
   ]
  },
  {
   "cell_type": "code",
   "execution_count": 39,
   "id": "binding-fitness",
   "metadata": {},
   "outputs": [
    {
     "name": "stdout",
     "output_type": "stream",
     "text": [
      "0.6775479623518907\n",
      "0.7498239109662781\n",
      "0.6853304427611355\n"
     ]
    }
   ],
   "source": [
    "from sklearn.model_selection import KFold\n",
    "kf = KFold(n_splits=3)\n",
    "\n",
    "from sklearn.linear_model import Ridge\n",
    "model = Ridge(random_state=0)\n",
    "\n",
    "scores_ridge = []\n",
    "\n",
    "for train_index, test_index in kf.split(X):\n",
    "    \n",
    "    X_train, X_test = X[train_index], X[test_index]\n",
    "    y_train, y_test = y[train_index], y[test_index]\n",
    "    \n",
    "    model.fit(X_train, y_train)\n",
    "    \n",
    "    score = model.score(X_test, y_test)\n",
    "    \n",
    "    print(score)\n",
    "    scores_ridge.append(score)"
   ]
  },
  {
   "cell_type": "code",
   "execution_count": 40,
   "id": "interracial-behalf",
   "metadata": {},
   "outputs": [
    {
     "name": "stdout",
     "output_type": "stream",
     "text": [
      "0.9368421052631579\n",
      "0.9842105263157894\n",
      "0.9788359788359788\n"
     ]
    }
   ],
   "source": [
    "from sklearn.model_selection import KFold\n",
    "kf = KFold(n_splits=3)\n",
    "\n",
    "from sklearn.svm import SVC\n",
    "model = SVC(random_state=0)\n",
    "\n",
    "scores_sv = []\n",
    "\n",
    "for train_index, test_index in kf.split(X):\n",
    "    \n",
    "    X_train, X_test = X[train_index], X[test_index]\n",
    "    y_train, y_test = y[train_index], y[test_index]\n",
    "    \n",
    "    model.fit(X_train, y_train)\n",
    "    \n",
    "    score = model.score(X_test, y_test)\n",
    "    \n",
    "    print(score)\n",
    "    scores_sv.append(score)"
   ]
  },
  {
   "cell_type": "code",
   "execution_count": 41,
   "id": "dimensional-citizenship",
   "metadata": {},
   "outputs": [
    {
     "name": "stdout",
     "output_type": "stream",
     "text": [
      "Results:\n",
      "linear:  [0.6827469154210248, 0.7411274933586149, 0.685526793901217]\n",
      "ridge:  [0.6775479623518907, 0.7498239109662781, 0.6853304427611355]\n",
      "svc:  [0.9368421052631579, 0.9842105263157894, 0.9788359788359788]\n",
      "decision tree:  [0.8842105263157894, 0.9421052631578948, 0.9047619047619048]\n"
     ]
    }
   ],
   "source": [
    "print(\"Results:\")\n",
    "print(\"linear: \", scores)\n",
    "print(\"ridge: \", scores_ridge)\n",
    "print(\"svc: \", scores_sv)\n",
    "print(\"decision tree: \", scores_dt)"
   ]
  },
  {
   "cell_type": "code",
   "execution_count": null,
   "id": "straight-semiconductor",
   "metadata": {},
   "outputs": [],
   "source": []
  }
 ],
 "metadata": {
  "kernelspec": {
   "display_name": "Python 3",
   "language": "python",
   "name": "python3"
  },
  "language_info": {
   "codemirror_mode": {
    "name": "ipython",
    "version": 3
   },
   "file_extension": ".py",
   "mimetype": "text/x-python",
   "name": "python",
   "nbconvert_exporter": "python",
   "pygments_lexer": "ipython3",
   "version": "3.8.5"
  }
 },
 "nbformat": 4,
 "nbformat_minor": 5
}
